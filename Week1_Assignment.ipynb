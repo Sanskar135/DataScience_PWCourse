{
 "cells": [
  {
   "cell_type": "code",
   "execution_count": null,
   "id": "4159d548-205d-4a8d-bcd4-d1d274131a3a",
   "metadata": {
    "tags": []
   },
   "outputs": [],
   "source": [
    "#Q1\n",
    "s1 = \"Sanskar\"\n",
    "l1 = [2, 4, 8.56, True]\n",
    "f1 = 5.68\n",
    "t1 = (45, 9.78, \"Sam\", False)"
   ]
  },
  {
   "cell_type": "code",
   "execution_count": 5,
   "id": "e32e1f94-f540-4984-9b57-4e5b409796f8",
   "metadata": {},
   "outputs": [
    {
     "data": {
      "text/plain": [
       "str"
      ]
     },
     "execution_count": 5,
     "metadata": {},
     "output_type": "execute_result"
    }
   ],
   "source": [
    "#Q2\n",
    "var1 = ''\n",
    "var2 = '[DS, ML, Python]'\n",
    "var3 = ['DS', 'ML', 'Python']\n",
    "var4 = 1.\n",
    "type(var1)"
   ]
  },
  {
   "cell_type": "code",
   "execution_count": 6,
   "id": "4a54f251-4e57-4b7e-9f57-7daed52c810c",
   "metadata": {},
   "outputs": [
    {
     "data": {
      "text/plain": [
       "str"
      ]
     },
     "execution_count": 6,
     "metadata": {},
     "output_type": "execute_result"
    }
   ],
   "source": [
    "type(var2)"
   ]
  },
  {
   "cell_type": "code",
   "execution_count": 7,
   "id": "29dcaed5-b399-49af-bff9-6493c39e5a9c",
   "metadata": {},
   "outputs": [
    {
     "data": {
      "text/plain": [
       "list"
      ]
     },
     "execution_count": 7,
     "metadata": {},
     "output_type": "execute_result"
    }
   ],
   "source": [
    "type(var3)"
   ]
  },
  {
   "cell_type": "code",
   "execution_count": 8,
   "id": "7b4b429d-c8ed-4845-8c1d-39a725d13fe6",
   "metadata": {},
   "outputs": [
    {
     "data": {
      "text/plain": [
       "float"
      ]
     },
     "execution_count": 8,
     "metadata": {},
     "output_type": "execute_result"
    }
   ],
   "source": [
    "type(var4)"
   ]
  },
  {
   "cell_type": "code",
   "execution_count": 9,
   "id": "fe0c45b1-ad6f-44ef-9c2f-31561ffe3393",
   "metadata": {},
   "outputs": [
    {
     "data": {
      "text/plain": [
       "3.3333333333333335"
      ]
     },
     "execution_count": 9,
     "metadata": {},
     "output_type": "execute_result"
    }
   ],
   "source": [
    "a = 10\n",
    "b = 3\n",
    "a/b #Division"
   ]
  },
  {
   "cell_type": "code",
   "execution_count": 10,
   "id": "5417a967-46be-4772-bd6c-0773f9ad4fcb",
   "metadata": {},
   "outputs": [
    {
     "data": {
      "text/plain": [
       "1"
      ]
     },
     "execution_count": 10,
     "metadata": {},
     "output_type": "execute_result"
    }
   ],
   "source": [
    "a%b #Remainder"
   ]
  },
  {
   "cell_type": "code",
   "execution_count": 11,
   "id": "96673977-8f4d-4cab-a607-692005827869",
   "metadata": {},
   "outputs": [
    {
     "data": {
      "text/plain": [
       "3"
      ]
     },
     "execution_count": 11,
     "metadata": {},
     "output_type": "execute_result"
    }
   ],
   "source": [
    "a//b #Floor of division"
   ]
  },
  {
   "cell_type": "code",
   "execution_count": 12,
   "id": "7f37fbe7-cdc6-40c7-a4f3-5848b55e1e08",
   "metadata": {},
   "outputs": [
    {
     "data": {
      "text/plain": [
       "1000"
      ]
     },
     "execution_count": 12,
     "metadata": {},
     "output_type": "execute_result"
    }
   ],
   "source": [
    "a**b #Power"
   ]
  },
  {
   "cell_type": "code",
   "execution_count": 15,
   "id": "777cd51a-2314-4f72-ac52-f4f6e18a7598",
   "metadata": {},
   "outputs": [
    {
     "name": "stdout",
     "output_type": "stream",
     "text": [
      "5 <class 'int'>\n",
      "78 <class 'int'>\n",
      "6.987 <class 'float'>\n",
      "Shyam <class 'str'>\n",
      "[6, 8, 9] <class 'list'>\n",
      "(78, 'Krishna', 9.67) <class 'tuple'>\n",
      "i <class 'str'>\n",
      "90 <class 'int'>\n",
      "100.89 <class 'float'>\n",
      "Hello <class 'str'>\n"
     ]
    }
   ],
   "source": [
    "list1 = [5, 78, 6.987, \"Shyam\", [6,8,9], (78,\"Krishna\",9.67), 'i', 90, 100.89, \"Hello\"]\n",
    "for i in  list1:\n",
    "    print(i, type(i))"
   ]
  },
  {
   "cell_type": "code",
   "execution_count": 30,
   "id": "5fcf5664-f3ec-42d8-9775-08e61f637718",
   "metadata": {},
   "outputs": [
    {
     "name": "stdin",
     "output_type": "stream",
     "text": [
      "Enter the value of A 10\n",
      "Enter the value of B 5\n"
     ]
    },
    {
     "name": "stdout",
     "output_type": "stream",
     "text": [
      "A is divisible by B 2 times\n"
     ]
    }
   ],
   "source": [
    "A = int(input(\"Enter the value of A\"))\n",
    "B = int(input(\"Enter the value of B\"))\n",
    "count = 0\n",
    "\n",
    "if ((A < B) or (A%B != 0)) and (A != 0):\n",
    "    print(\"A is not divisible by B\")\n",
    "else:\n",
    "    while A > 0:\n",
    "        A -= B\n",
    "        count += 1\n",
    "    else:\n",
    "        print(f\"A is divisible by B {count} times\")"
   ]
  },
  {
   "cell_type": "code",
   "execution_count": 37,
   "id": "93917ec4-65cc-4884-b9a9-b17d10afd29f",
   "metadata": {},
   "outputs": [
    {
     "name": "stdout",
     "output_type": "stream",
     "text": [
      "0 is divisible by 3\n",
      "1 is not divisible by 3\n",
      "2 is not divisible by 3\n",
      "3 is divisible by 3\n",
      "4 is not divisible by 3\n",
      "5 is not divisible by 3\n",
      "6 is divisible by 3\n",
      "7 is not divisible by 3\n",
      "8 is not divisible by 3\n",
      "9 is divisible by 3\n",
      "10 is not divisible by 3\n",
      "11 is not divisible by 3\n",
      "12 is divisible by 3\n",
      "13 is not divisible by 3\n",
      "14 is not divisible by 3\n",
      "15 is divisible by 3\n",
      "16 is not divisible by 3\n",
      "17 is not divisible by 3\n",
      "18 is divisible by 3\n",
      "19 is not divisible by 3\n",
      "20 is not divisible by 3\n",
      "21 is divisible by 3\n",
      "22 is not divisible by 3\n",
      "23 is not divisible by 3\n",
      "24 is divisible by 3\n"
     ]
    }
   ],
   "source": [
    "list2 = list(range(25))\n",
    "list2\n",
    "for i in list2:\n",
    "    if i%3==0:\n",
    "        print(f\"{i} is divisible by 3\")\n",
    "    else:\n",
    "        print(f\"{i} is not divisible by 3\")"
   ]
  },
  {
   "cell_type": "code",
   "execution_count": 42,
   "id": "ebdddc19-7204-4680-a0b4-c1fb789fa9e3",
   "metadata": {},
   "outputs": [
    {
     "ename": "TypeError",
     "evalue": "'str' object does not support item assignment",
     "output_type": "error",
     "traceback": [
      "\u001b[0;31m---------------------------------------------------------------------------\u001b[0m",
      "\u001b[0;31mTypeError\u001b[0m                                 Traceback (most recent call last)",
      "Cell \u001b[0;32mIn[42], line 4\u001b[0m\n\u001b[1;32m      2\u001b[0m s2\u001b[38;5;241m=\u001b[39m\u001b[38;5;124m\"\u001b[39m\u001b[38;5;124msanskar\u001b[39m\u001b[38;5;124m\"\u001b[39m\n\u001b[1;32m      3\u001b[0m list3[\u001b[38;5;241m0\u001b[39m]\u001b[38;5;241m=\u001b[39m\u001b[38;5;241m2\u001b[39m \u001b[38;5;66;03m#mutable\u001b[39;00m\n\u001b[0;32m----> 4\u001b[0m \u001b[43ms2\u001b[49m\u001b[43m[\u001b[49m\u001b[38;5;241;43m0\u001b[39;49m\u001b[43m]\u001b[49m\u001b[38;5;241m=\u001b[39m\u001b[38;5;124m\"\u001b[39m\u001b[38;5;124my\u001b[39m\u001b[38;5;124m\"\u001b[39m \u001b[38;5;66;03m#immutable\u001b[39;00m\n",
      "\u001b[0;31mTypeError\u001b[0m: 'str' object does not support item assignment"
     ]
    }
   ],
   "source": [
    "list3 = [1,\"yash\",3.3,'a',list1];\n",
    "s2=\"sanskar\"\n",
    "list3[0]=2 #mutable\n",
    "s2[0]=\"y\" #immutable"
   ]
  },
  {
   "cell_type": "code",
   "execution_count": null,
   "id": "a011904d-c9b7-4bc9-a548-7fd82e2d56a6",
   "metadata": {},
   "outputs": [],
   "source": []
  }
 ],
 "metadata": {
  "kernelspec": {
   "display_name": "Python 3 (ipykernel)",
   "language": "python",
   "name": "python3"
  },
  "language_info": {
   "codemirror_mode": {
    "name": "ipython",
    "version": 3
   },
   "file_extension": ".py",
   "mimetype": "text/x-python",
   "name": "python",
   "nbconvert_exporter": "python",
   "pygments_lexer": "ipython3",
   "version": "3.10.8"
  }
 },
 "nbformat": 4,
 "nbformat_minor": 5
}
