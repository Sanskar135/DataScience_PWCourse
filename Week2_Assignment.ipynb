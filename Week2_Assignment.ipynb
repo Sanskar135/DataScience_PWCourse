{
 "cells": [
  {
   "cell_type": "code",
   "execution_count": 3,
   "id": "ee5e337d-2e51-4a58-8ec4-739baefb101d",
   "metadata": {
    "tags": []
   },
   "outputs": [],
   "source": [
    "#Q1\n",
    "#Single Line Comment\n",
    "#->#This is a single line comment\n",
    "\n",
    "#Multi Line Comment\n",
    "'''This\n",
    "is\n",
    "a\n",
    "Multi Line Comment'''"
   ]
  },
  {
   "cell_type": "code",
   "execution_count": 4,
   "id": "3839a7b4-0f8e-44fb-ad5f-bb926ae0b45f",
   "metadata": {},
   "outputs": [],
   "source": [
    "#Q2\n",
    "#Variables are memory location where you can store some data\n",
    "x=5"
   ]
  },
  {
   "cell_type": "code",
   "execution_count": 9,
   "id": "d12087e0-9d19-4a8d-a29f-0feb40a71ce2",
   "metadata": {},
   "outputs": [
    {
     "data": {
      "text/plain": [
       "int"
      ]
     },
     "execution_count": 9,
     "metadata": {},
     "output_type": "execute_result"
    }
   ],
   "source": [
    "#Q3\n",
    "y=\"5\"\n",
    "y=int(y)\n",
    "type(y)"
   ]
  },
  {
   "cell_type": "code",
   "execution_count": 10,
   "id": "01b977a1-f614-47cb-82ec-b5713f576f7b",
   "metadata": {},
   "outputs": [],
   "source": [
    "#Q4\n",
    "#To run a python script using command line, first we have to type the word python followed by the path to your script file."
   ]
  },
  {
   "cell_type": "code",
   "execution_count": 11,
   "id": "83bc8328-ff04-4ea4-8dbf-916e8698e24f",
   "metadata": {},
   "outputs": [
    {
     "data": {
      "text/plain": [
       "[2, 3]"
      ]
     },
     "execution_count": 11,
     "metadata": {},
     "output_type": "execute_result"
    }
   ],
   "source": [
    "#Q5\n",
    "my_list = [1, 2, 3, 4, 5]\n",
    "my_list[1:3]"
   ]
  },
  {
   "cell_type": "code",
   "execution_count": 12,
   "id": "8eb38270-02fa-4706-9a80-44986c1cd03a",
   "metadata": {},
   "outputs": [
    {
     "data": {
      "text/plain": [
       "complex"
      ]
     },
     "execution_count": 12,
     "metadata": {},
     "output_type": "execute_result"
    }
   ],
   "source": [
    "#Q6\n",
    "#Complex number in mathematics is a number which contains imaginary number (a+ib) \n",
    "z=3+4j\n",
    "type(z)"
   ]
  },
  {
   "cell_type": "code",
   "execution_count": 13,
   "id": "bda78f8f-6252-41ae-89a4-9295e490cf67",
   "metadata": {},
   "outputs": [],
   "source": [
    "#Q7\n",
    "age = 25"
   ]
  },
  {
   "cell_type": "code",
   "execution_count": 17,
   "id": "35900499-a0b6-4491-ac6d-882b7688294a",
   "metadata": {},
   "outputs": [
    {
     "data": {
      "text/plain": [
       "float"
      ]
     },
     "execution_count": 17,
     "metadata": {},
     "output_type": "execute_result"
    }
   ],
   "source": [
    "#Q8\n",
    "price = 9.99\n",
    "type(price)"
   ]
  },
  {
   "cell_type": "code",
   "execution_count": 18,
   "id": "b6e304c1-4296-40ee-b5a8-f2b79772f570",
   "metadata": {},
   "outputs": [
    {
     "name": "stdout",
     "output_type": "stream",
     "text": [
      "Sanskar Sureka\n"
     ]
    }
   ],
   "source": [
    "#Q9\n",
    "name = \"Sanskar Sureka\"\n",
    "print(name)"
   ]
  },
  {
   "cell_type": "code",
   "execution_count": 28,
   "id": "be7a1c31-893c-4a7b-90f3-9b7d36e1d8ae",
   "metadata": {},
   "outputs": [
    {
     "data": {
      "text/plain": [
       "'World'"
      ]
     },
     "execution_count": 28,
     "metadata": {},
     "output_type": "execute_result"
    }
   ],
   "source": [
    "#Q10\n",
    "str1=\"Hello, World!\"\n",
    "str1[7:12]"
   ]
  },
  {
   "cell_type": "code",
   "execution_count": 29,
   "id": "d7368a1b-8b11-4743-ad41-67020cf0469b",
   "metadata": {},
   "outputs": [],
   "source": [
    "#Q11\n",
    "is_student = True"
   ]
  }
 ],
 "metadata": {
  "kernelspec": {
   "display_name": "Python 3 (ipykernel)",
   "language": "python",
   "name": "python3"
  },
  "language_info": {
   "codemirror_mode": {
    "name": "ipython",
    "version": 3
   },
   "file_extension": ".py",
   "mimetype": "text/x-python",
   "name": "python",
   "nbconvert_exporter": "python",
   "pygments_lexer": "ipython3",
   "version": "3.10.8"
  }
 },
 "nbformat": 4,
 "nbformat_minor": 5
}
