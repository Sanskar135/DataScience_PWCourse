{
 "cells": [
  {
   "cell_type": "code",
   "execution_count": 1,
   "id": "f1744d51-e332-4da7-9e6e-12f62ec127ba",
   "metadata": {},
   "outputs": [],
   "source": [
    "#Q1\n",
    "\n",
    "class vehicle:\n",
    "    \n",
    "    def __init__(self, name_of_vehicle, max_speed, average_of_vehicle):\n",
    "        self.name_of_vehicle = name_of_vehicle\n",
    "        self.max_speed = max_speed\n",
    "        self.average_of_vehicle = average_of_vehicle"
   ]
  },
  {
   "cell_type": "code",
   "execution_count": 2,
   "id": "0b221a83-a12e-4412-a2fa-0f12396d884c",
   "metadata": {},
   "outputs": [],
   "source": [
    "#Q2\n",
    "\n",
    "class car(vehicle):\n",
    "    \n",
    "    def seating_capacity(capacity):\n",
    "        return name_of_vehicle, capacity"
   ]
  },
  {
   "cell_type": "code",
   "execution_count": 3,
   "id": "49357697-e9c7-4cab-979b-56865e4e663e",
   "metadata": {},
   "outputs": [],
   "source": [
    "#Q3\n",
    "\n",
    "#When a class is derived from more than one base class it is called multiple Inheritance. The derived class inherits all the features of the base case.\n",
    "\n",
    "class parent1:\n",
    "    pass\n",
    "\n",
    "class parent2:\n",
    "    pass\n",
    "\n",
    "class children(parent1, parent2):\n",
    "    pass"
   ]
  },
  {
   "cell_type": "code",
   "execution_count": null,
   "id": "d9816168-1859-44c8-8d6c-3cb5dfdf672d",
   "metadata": {},
   "outputs": [],
   "source": [
    "#Q4\n",
    "\n",
    "#In Python, getters and setters are not the same as those in other object-oriented programming languages. Basically, the main purpose of using getters and setters in \n",
    "#object-oriented programs is to ensure data encapsulation. Private variables in python are not actually hidden fields like in other object oriented languages. Getters and \n",
    "#Setters in python are often used when:\n",
    "#1) We use getters & setters to add validation logic around getting and setting a value.\n",
    "#2) To avoid direct access of a class field i.e. private variables cannot be accessed directly or modified by external user.\n",
    "\n",
    "class Human: \n",
    "    def __init__(self): \n",
    "        self._age = 0\n",
    "        \n",
    "    @property\n",
    "    def age(self): \n",
    "        print(\"getter method called\") \n",
    "        return self._age  \n",
    "   \n",
    "    @age.setter \n",
    "    def age(self, a): \n",
    "        if(a < 18): \n",
    "            raise ValueError(\"Sorry you age is below eligibility criteria\") \n",
    "        print(\"setter method called\") \n",
    "        self._age = a "
   ]
  }
 ],
 "metadata": {
  "kernelspec": {
   "display_name": "Python 3 (ipykernel)",
   "language": "python",
   "name": "python3"
  },
  "language_info": {
   "codemirror_mode": {
    "name": "ipython",
    "version": 3
   },
   "file_extension": ".py",
   "mimetype": "text/x-python",
   "name": "python",
   "nbconvert_exporter": "python",
   "pygments_lexer": "ipython3",
   "version": "3.10.8"
  }
 },
 "nbformat": 4,
 "nbformat_minor": 5
}
