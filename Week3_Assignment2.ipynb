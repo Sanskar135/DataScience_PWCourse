{
 "cells": [
  {
   "cell_type": "code",
   "execution_count": 3,
   "id": "f448b274-1c73-40bb-b47c-8b15c3335944",
   "metadata": {},
   "outputs": [
    {
     "data": {
      "text/plain": [
       "[('Virat Kohli', 24936),\n",
       " ('Jack Kallis', 25534),\n",
       " ('Ricky Ponting', 27483),\n",
       " ('Sachin Tendulkar', 34357)]"
      ]
     },
     "execution_count": 3,
     "metadata": {},
     "output_type": "execute_result"
    }
   ],
   "source": [
    "#Q1\n",
    "\n",
    "cricket = [('Sachin Tendulkar', 34357), ('Ricky Ponting', 27483), ('Jack Kallis', 25534), ('Virat Kohli', 24936)]\n",
    "cricket.sort(key = lambda x: x[1])\n",
    "cricket"
   ]
  },
  {
   "cell_type": "code",
   "execution_count": 9,
   "id": "41fe8f43-80e0-41f9-99f8-69f3fa327d18",
   "metadata": {},
   "outputs": [
    {
     "name": "stdout",
     "output_type": "stream",
     "text": [
      "Using lambda function\n",
      "1\n",
      "4\n",
      "9\n",
      "16\n",
      "25\n",
      "36\n",
      "49\n",
      "64\n",
      "81\n",
      "100\n",
      "\n",
      "Using map function\n",
      "1\n",
      "4\n",
      "9\n",
      "16\n",
      "25\n",
      "36\n",
      "49\n",
      "64\n",
      "81\n",
      "100\n"
     ]
    }
   ],
   "source": [
    "#Q2\n",
    "\n",
    "l1 = [1, 2, 3, 4, 5, 6, 7, 8, 9, 10]\n",
    "sq = lambda x: x**2\n",
    "\n",
    "print(\"Using lambda function\")\n",
    "for i in l1:\n",
    "    print(sq(i))\n",
    "    \n",
    "print()    \n",
    "print(\"Using map function\")\n",
    "for i in map(sq,l1):\n",
    "    print(i)"
   ]
  },
  {
   "cell_type": "code",
   "execution_count": 20,
   "id": "16126ec2-3b12-40ae-bf9d-371dcc908ffb",
   "metadata": {},
   "outputs": [
    {
     "name": "stdout",
     "output_type": "stream",
     "text": [
      "Using lambda function\n",
      "('1', '2', '3', '4', '5', '6', '7', '8', '9', '10')\n",
      "\n",
      "Using map function\n",
      "('1', '2', '3', '4', '5', '6', '7', '8', '9', '10')\n"
     ]
    }
   ],
   "source": [
    "#Q3\n",
    "\n",
    "l2 = [1, 2, 3, 4, 5, 6, 7, 8, 9, 10]\n",
    "convert = lambda x: str(x)\n",
    "\n",
    "print(\"Using lambda function\")\n",
    "print(tuple(convert(i) for i in l2))\n",
    "\n",
    "print()    \n",
    "print(\"Using map function\")\n",
    "print(tuple(map(convert,l2)))"
   ]
  },
  {
   "cell_type": "code",
   "execution_count": 21,
   "id": "39abf677-64ed-4c49-934c-9541ed75a48f",
   "metadata": {},
   "outputs": [
    {
     "data": {
      "text/plain": [
       "15511210043330985984000000"
      ]
     },
     "execution_count": 21,
     "metadata": {},
     "output_type": "execute_result"
    }
   ],
   "source": [
    "#Q4\n",
    "from functools import reduce\n",
    "\n",
    "l3 = list(range(1,26))\n",
    "reduce(lambda x,y: x*y, l3)"
   ]
  },
  {
   "cell_type": "code",
   "execution_count": 2,
   "id": "c483abd7-33b5-4577-b16e-aead340dd3e2",
   "metadata": {},
   "outputs": [
    {
     "data": {
      "text/plain": [
       "[6, 60, 90, 120]"
      ]
     },
     "execution_count": 2,
     "metadata": {},
     "output_type": "execute_result"
    }
   ],
   "source": [
    "#Q5\n",
    "\n",
    "l4 = [2, 3, 6, 9, 27, 60, 90, 120, 55, 46]\n",
    "\n",
    "list(filter(lambda x: x%2==0 and x%3==0, l4))"
   ]
  },
  {
   "cell_type": "code",
   "execution_count": 6,
   "id": "1cfa8fde-7ad8-40dc-92d5-3dc318f78392",
   "metadata": {},
   "outputs": [
    {
     "name": "stdout",
     "output_type": "stream",
     "text": [
      "Using lambda function\n",
      "php\n",
      "aba\n",
      "radar\n",
      "level\n",
      "\n",
      "Using filter function\n",
      "php\n",
      "aba\n",
      "radar\n",
      "level\n"
     ]
    }
   ],
   "source": [
    "#Q6\n",
    "\n",
    "l5 = ['python', 'php', 'aba', 'radar', 'level']\n",
    "palindrome = lambda x: x[:] == x[::-1]\n",
    "\n",
    "print(\"Using lambda function\")\n",
    "for i in l5:\n",
    "    if palindrome(i):\n",
    "        print(i)\n",
    "        \n",
    "print()    \n",
    "print(\"Using filter function\")\n",
    "for i in filter(palindrome, l5):\n",
    "    print(i)"
   ]
  }
 ],
 "metadata": {
  "kernelspec": {
   "display_name": "Python 3 (ipykernel)",
   "language": "python",
   "name": "python3"
  },
  "language_info": {
   "codemirror_mode": {
    "name": "ipython",
    "version": 3
   },
   "file_extension": ".py",
   "mimetype": "text/x-python",
   "name": "python",
   "nbconvert_exporter": "python",
   "pygments_lexer": "ipython3",
   "version": "3.10.8"
  }
 },
 "nbformat": 4,
 "nbformat_minor": 5
}
