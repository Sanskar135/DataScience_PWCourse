{
 "cells": [
  {
   "cell_type": "code",
   "execution_count": 6,
   "id": "e483df3c-24fa-450c-acc5-d8b69d554e0a",
   "metadata": {},
   "outputs": [],
   "source": [
    "#Q1\n",
    "#Class\n",
    "#A class is a user-defined data type. It consists of data members and member functions, which can be accessed and used by creating an instance of that class. \n",
    "#It represents the set of properties or methods that are common to all objects of one type. A class is like a blueprint for an object.For Example: Consider the Class of Cars.\n",
    "#There may be many cars with different names and brands but all of them will share some common properties like all of them will have 4 wheels, Speed Limit, Mileage range, etc.\n",
    "#So here, Car is the class, and wheels, speed limits, mileage are their properties.\n",
    "\n",
    "#Object\n",
    "#It is a basic unit of Object-Oriented Programming and represents the real-life entities. An Object is an instance of a Class. When a class is defined, no memory is allocated\n",
    "#but when it is instantiated (i.e. an object is created) memory is allocated.For example “Dog” is a real-life Object, which has some characteristics like color, Breed, Bark, \n",
    "#Sleep, and Eats.\n",
    "\n",
    "class Car:\n",
    "    pass\n",
    "\n",
    "Mercedes = Car()"
   ]
  },
  {
   "cell_type": "code",
   "execution_count": 5,
   "id": "f0a9d766-d826-4403-819c-490867043514",
   "metadata": {},
   "outputs": [],
   "source": [
    "#Q2\n",
    "#Four pillars of OOP are:\n",
    "#1) Data Abstraction\n",
    "#2) Encapsulation\n",
    "#3) Polymorphism\n",
    "#4) Inheritance"
   ]
  },
  {
   "cell_type": "code",
   "execution_count": 7,
   "id": "ba93fea6-2cde-4bbe-9ac1-0a84395bfa3f",
   "metadata": {},
   "outputs": [],
   "source": [
    "#Q3\n",
    "#The __init__() function is a constructor. Constructors are used to initializing the object’s state. The task of constructors is to initialize(assign values) to the data \n",
    "#members of the class when an object of the class is created.\n",
    "\n",
    "class Dog:\n",
    "    def __init__(self,breed,colour):\n",
    "        self.breed = breed\n",
    "        self.colour = colour\n",
    "        \n",
    "Dog1 = Dog(\"Golden Retriever\", \"blonde\")"
   ]
  },
  {
   "cell_type": "code",
   "execution_count": 8,
   "id": "964840d7-ccb2-4936-b855-b6ba7548d7da",
   "metadata": {},
   "outputs": [],
   "source": [
    "#Q4\n",
    "#The self parameter is used to refer to the current instance of a class. We can use it also to access the attributes and methods that belong to that class."
   ]
  },
  {
   "cell_type": "code",
   "execution_count": 10,
   "id": "c1ee47f3-8aa4-4d7d-b691-b2ffc74a509a",
   "metadata": {},
   "outputs": [],
   "source": [
    "#Q5\n",
    "#Inheritance is an important pillar of OOP(Object-Oriented Programming). The capability of a class to derive properties and characteristics from another class is called \n",
    "#Inheritance. Inheritance allows the user to reuse the code whenever possible and reduce its redundancy.\n",
    "\n",
    "#Single Inheritance\n",
    "class parent:\n",
    "    pass\n",
    "\n",
    "class child(parent):\n",
    "    pass\n",
    "\n",
    "#Multiple Inheritance\n",
    "class parent1:\n",
    "    pass\n",
    "\n",
    "class parent2:\n",
    "    pass\n",
    "\n",
    "class children(parent1, parent2):\n",
    "    pass\n",
    "\n",
    "#Multilevel Inheritance\n",
    "class Grandparent:\n",
    "    pass\n",
    "\n",
    "class Parent(Grandparent):\n",
    "    pass\n",
    "\n",
    "class Child(Parent):\n",
    "    pass\n",
    "\n",
    "#Hierarchical Inheritance\n",
    "class parents:\n",
    "    pass\n",
    "\n",
    "class child1(parents):\n",
    "    pass\n",
    "\n",
    "class child2(parents):\n",
    "    pass\n",
    "\n",
    "class child3(parents):\n",
    "    pass\n",
    "\n",
    "#Hybrid Inheritance\n",
    "class Parents:\n",
    "    pass\n",
    "\n",
    "class derived1(Parents):\n",
    "    pass\n",
    "\n",
    "class derived2(Parents):\n",
    "    pass\n",
    "\n",
    "class derived3(derived1, derived2):\n",
    "    pass"
   ]
  }
 ],
 "metadata": {
  "kernelspec": {
   "display_name": "Python 3 (ipykernel)",
   "language": "python",
   "name": "python3"
  },
  "language_info": {
   "codemirror_mode": {
    "name": "ipython",
    "version": 3
   },
   "file_extension": ".py",
   "mimetype": "text/x-python",
   "name": "python",
   "nbconvert_exporter": "python",
   "pygments_lexer": "ipython3",
   "version": "3.10.8"
  }
 },
 "nbformat": 4,
 "nbformat_minor": 5
}
