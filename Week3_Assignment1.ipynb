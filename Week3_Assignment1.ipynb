{
 "cells": [
  {
   "cell_type": "code",
   "execution_count": 1,
   "id": "1c486b79-2452-4a18-81ba-561b96359368",
   "metadata": {},
   "outputs": [
    {
     "data": {
      "text/plain": [
       "[1, 3, 5, 7, 9, 11, 13, 15, 17, 19, 21, 23, 25]"
      ]
     },
     "execution_count": 1,
     "metadata": {},
     "output_type": "execute_result"
    }
   ],
   "source": [
    "#Q1\n",
    "#def keyword is used to create a function\n",
    "\n",
    "def odd_num():\n",
    "    ans = []\n",
    "    for i in range (1,26):\n",
    "        if i%2:\n",
    "            ans.append(i)\n",
    "    return ans\n",
    "\n",
    "odd_num()"
   ]
  },
  {
   "cell_type": "code",
   "execution_count": 3,
   "id": "b97b5847-293e-471f-8b0c-f849d9416dda",
   "metadata": {},
   "outputs": [
    {
     "name": "stdout",
     "output_type": "stream",
     "text": [
      "(1, 2, 3, 'sanskar')\n",
      "{'a': 1, 'b': 2, 'c': 'sanskar'}\n"
     ]
    }
   ],
   "source": [
    "#Q2\n",
    "#*args and **kwargs are used in some function to pass n number of arguments or key value pairs to function\n",
    "\n",
    "def test1(*args):\n",
    "    return args\n",
    "\n",
    "def test2(**kwargs):\n",
    "    return kwargs\n",
    "\n",
    "print(test1(1,2,3,\"sanskar\"))\n",
    "print(test2(a=1,b=2,c=\"sanskar\"))"
   ]
  },
  {
   "cell_type": "code",
   "execution_count": 4,
   "id": "68c6046c-baff-40af-b02a-c751205c9ae2",
   "metadata": {},
   "outputs": [
    {
     "name": "stdout",
     "output_type": "stream",
     "text": [
      "2\n",
      "4\n",
      "6\n",
      "8\n",
      "10\n"
     ]
    }
   ],
   "source": [
    "#Q3\n",
    "#An iterator in Python is an object that contains a countable number of elements that can be iterated upon\n",
    "#iter() method is used to initialise the iterator object and the next() method is used for iteration.\n",
    "\n",
    "l1 = [2, 4, 6, 8, 10, 12, 14, 16, 18, 20]\n",
    "list_iter = iter(l1)\n",
    "\n",
    "print(next(list_iter))\n",
    "print(next(list_iter))\n",
    "print(next(list_iter))\n",
    "print(next(list_iter))\n",
    "print(next(list_iter))"
   ]
  },
  {
   "cell_type": "code",
   "execution_count": 5,
   "id": "15501f73-e13d-48f9-9331-85443e59cd1c",
   "metadata": {},
   "outputs": [
    {
     "name": "stdout",
     "output_type": "stream",
     "text": [
      "0\n",
      "1\n",
      "1\n",
      "2\n",
      "3\n",
      "5\n",
      "8\n",
      "13\n",
      "21\n",
      "34\n"
     ]
    }
   ],
   "source": [
    "#Q4\n",
    "#A generator function in Python is defined like a normal function, but whenever it needs to generate a value, it does so with the yield keyword rather than return.\n",
    "#yield keyword is used to create a generator function\n",
    "\n",
    "def test_fib(n):\n",
    "    a,b = 0,1\n",
    "    for i in range(n):\n",
    "        yield(a)\n",
    "        a,b = b,a+b\n",
    "\n",
    "for i in test_fib(10):\n",
    "    print(i)"
   ]
  },
  {
   "cell_type": "code",
   "execution_count": 11,
   "id": "d6e5aaba-e028-4574-bf68-39c19ed1a40f",
   "metadata": {},
   "outputs": [
    {
     "name": "stdout",
     "output_type": "stream",
     "text": [
      "2\n",
      "3\n",
      "5\n",
      "7\n",
      "11\n",
      "13\n",
      "17\n",
      "19\n",
      "23\n",
      "29\n",
      "31\n",
      "37\n",
      "41\n",
      "43\n",
      "47\n",
      "53\n",
      "59\n",
      "61\n",
      "67\n",
      "71\n"
     ]
    }
   ],
   "source": [
    "def is_prime():\n",
    "    for i in range(2,1000):\n",
    "        c=0\n",
    "        for j in range(2,i):\n",
    "            if i%j == 0:\n",
    "                c+=1\n",
    "        if c == 0:\n",
    "            yield i\n",
    "\n",
    "a = is_prime()\n",
    "\n",
    "for _ in range(20):\n",
    "    print(next(a))"
   ]
  },
  {
   "cell_type": "code",
   "execution_count": null,
   "id": "79093159-8e46-4fb9-9867-74b4e4b19c87",
   "metadata": {},
   "outputs": [],
   "source": []
  }
 ],
 "metadata": {
  "kernelspec": {
   "display_name": "Python 3 (ipykernel)",
   "language": "python",
   "name": "python3"
  },
  "language_info": {
   "codemirror_mode": {
    "name": "ipython",
    "version": 3
   },
   "file_extension": ".py",
   "mimetype": "text/x-python",
   "name": "python",
   "nbconvert_exporter": "python",
   "pygments_lexer": "ipython3",
   "version": "3.10.8"
  }
 },
 "nbformat": 4,
 "nbformat_minor": 5
}
